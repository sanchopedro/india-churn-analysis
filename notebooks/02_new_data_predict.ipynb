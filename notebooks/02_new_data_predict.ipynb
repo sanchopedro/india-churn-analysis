{
 "cells": [
  {
   "cell_type": "markdown",
   "id": "aa97207b",
   "metadata": {},
   "source": [
    "# Predict New Data - India Telecom Churn Analysis"
   ]
  },
  {
   "cell_type": "code",
   "execution_count": 1,
   "id": "541bcc29",
   "metadata": {},
   "outputs": [],
   "source": [
    "import pandas as pd\n",
    "import numpy as np\n",
    "import joblib\n",
    "import os\n",
    "import warnings\n",
    "import matplotlib.pyplot as plt\n",
    "import seaborn as sns\n",
    "\n",
    "# Configurações\n",
    "warnings.filterwarnings(\"ignore\")"
   ]
  },
  {
   "cell_type": "code",
   "execution_count": 2,
   "id": "715bb634",
   "metadata": {},
   "outputs": [],
   "source": [
    "# Function to Load the dataset\n",
    "def load_and_prepare_data(file_path):\n",
    "    \"\"\"\n",
    "    Loads and prepares new data for prediction\n",
    "    \"\"\"\n",
    "    print(\"📥 Loading new data...\")\n",
    "    df = pd.read_csv(file_path)\n",
    "    \n",
    "    # Save customer IDs\n",
    "    customer_ids = df['Customer_ID'].copy()\n",
    "    \n",
    "    # Drop unnecessary columns\n",
    "    columns_to_drop = ['Customer_ID', 'Customer_Status', 'Churn_Category', 'Churn_Reason']\n",
    "    df = df.drop(columns=columns_to_drop)\n",
    "    \n",
    "    print(f\"📊 Data shape: {df.shape}\")\n",
    "    return df, customer_ids"
   ]
  },
  {
   "cell_type": "code",
   "execution_count": 3,
   "id": "101616c8",
   "metadata": {},
   "outputs": [],
   "source": [
    "# Function to make predictions\n",
    "def make_predictions(model, data):\n",
    "    \"\"\"\n",
    "    Makes predictions using the best trained model\n",
    "    \"\"\"\n",
    "    print(\"\\n🔮 Making predictions...\")\n",
    "    predictions = model.predict(data)\n",
    "    probabilities = model.predict_proba(data)[:, 1]\n",
    "    return predictions, probabilities"
   ]
  },
  {
   "cell_type": "code",
   "execution_count": 4,
   "id": "457ccd7d",
   "metadata": {},
   "outputs": [],
   "source": [
    "# Function to create results DataFrame\n",
    "def create_results_dataframe(original_data, customer_ids, predictions, probabilities):\n",
    "    \"\"\"\n",
    "    Creates a DataFrame with results\n",
    "    \"\"\"\n",
    "    results = pd.DataFrame()\n",
    "    results[\"Customer_ID\"] = customer_ids\n",
    "    results[\"Churn_Prediction\"] = predictions\n",
    "    results[\"Churn_Probability\"] = probabilities\n",
    "\n",
    "    results[\"Churn_Status\"] = results[\"Churn_Prediction\"].map(\n",
    "        {0: \"Likely to Stay\", 1: \"Likely to Churn\"}\n",
    "    )\n",
    "\n",
    "    results = pd.concat([results, original_data], axis=1)\n",
    "    return results"
   ]
  },
  {
   "cell_type": "code",
   "execution_count": 5,
   "id": "2d1516f3",
   "metadata": {},
   "outputs": [],
   "source": [
    "# Function to analyze predictions\n",
    "def analyze_predictions(results):\n",
    "    \"\"\"\n",
    "    Analyzes and visualizes prediction results\n",
    "    \"\"\"\n",
    "    print(\"\\n📊 Prediction Analysis:\")\n",
    "\n",
    "    pred_dist = results[\"Churn_Status\"].value_counts()\n",
    "    print(\"\\nChurn Prediction Distribution:\")\n",
    "    print(pred_dist)\n",
    "\n",
    "    fig, (ax1, ax2) = plt.subplots(1, 2, figsize=(15, 5))\n",
    "\n",
    "    # Pie chart\n",
    "    colors = [\"#2ecc71\", \"#e74c3c\"]\n",
    "    pred_dist.plot(kind=\"pie\", autopct=\"%1.1f%%\", ax=ax1, colors=colors)\n",
    "    ax1.set_title(\"Distribution of Churn Predictions\")\n",
    "\n",
    "    # Histogram\n",
    "    sns.histplot(data=results, x=\"Churn_Probability\", bins=30, ax=ax2)\n",
    "    ax2.axvline(x=0.7, color=\"r\", linestyle=\"--\", label=\"High Risk Threshold (0.7)\")\n",
    "    ax2.set_title(\"Distribution of Churn Probabilities\")\n",
    "    ax2.set_xlabel(\"Probability of Churn\")\n",
    "    ax2.legend()\n",
    "\n",
    "    plt.tight_layout()\n",
    "    plt.show()\n",
    "\n",
    "    print(\"\\nSummary Statistics:\")\n",
    "    print(f\"Total Customers: {len(results)}\")\n",
    "    print(f\"Predicted to Churn: {len(results[results['Churn_Prediction'] == 1])}\")\n",
    "    print(\n",
    "        f\"High Risk Customers (>70% probability): {len(results[results['Churn_Probability'] > 0.7])}\"\n",
    "    )"
   ]
  },
  {
   "cell_type": "code",
   "execution_count": 6,
   "id": "e3ce0c67",
   "metadata": {},
   "outputs": [
    {
     "name": "stdout",
     "output_type": "stream",
     "text": [
      "📥 Loading new data...\n",
      "📊 Data shape: (405, 28)\n"
     ]
    }
   ],
   "source": [
    "# Load and prepare data\n",
    "file_path = \"../data/output/prod_customer_data_new_customers.csv\"\n",
    "new_data, customer_ids = load_and_prepare_data(file_path)\n",
    "\n",
    "# Save original data for reference\n",
    "original_data = new_data.copy()"
   ]
  },
  {
   "cell_type": "code",
   "execution_count": 7,
   "id": "f83fc4e0",
   "metadata": {},
   "outputs": [
    {
     "name": "stdout",
     "output_type": "stream",
     "text": [
      "\n",
      "🤖 Loading best model (Logistic Regression)...\n",
      "\n",
      "🔮 Making predictions...\n",
      "\n",
      "💾 Predictions saved to: ../data/output/predictions.csv\n"
     ]
    }
   ],
   "source": [
    "# Load the best model\n",
    "print(\"\\n🤖 Loading best model (Logistic Regression)...\")\n",
    "models_dir = \"../models\"\n",
    "model_path = os.path.join(models_dir, \"logistic_regression_model.pkl\")\n",
    "best_model = joblib.load(model_path)\n",
    "\n",
    "# Make predictions\n",
    "predictions, probabilities = make_predictions(best_model, new_data)\n",
    "\n",
    "# Create results DataFrame\n",
    "results = create_results_dataframe(\n",
    "    original_data, customer_ids, predictions, probabilities\n",
    ")\n",
    "\n",
    "# Save predictions\n",
    "output_path = \"../data/output/predictions.csv\"\n",
    "results.to_csv(output_path, index=False)\n",
    "print(f\"\\n💾 Predictions saved to: {output_path}\")"
   ]
  },
  {
   "cell_type": "code",
   "execution_count": 8,
   "id": "3a2f7d6d",
   "metadata": {},
   "outputs": [
    {
     "name": "stdout",
     "output_type": "stream",
     "text": [
      "\n",
      "📊 Prediction Analysis:\n",
      "\n",
      "Churn Prediction Distribution:\n",
      "Churn_Status\n",
      "Likely to Stay     239\n",
      "Likely to Churn    166\n",
      "Name: count, dtype: int64\n"
     ]
    },
    {
     "data": {
      "image/png": "[encoded data removed]",
      "text/plain": [
       "<Figure size 1500x500 with 2 Axes>"
      ]
     },
     "metadata": {},
     "output_type": "display_data"
    },
    {
     "name": "stdout",
     "output_type": "stream",
     "text": [
      "\n",
      "Summary Statistics:\n",
      "Total Customers: 405\n",
      "Predicted to Churn: 166\n",
      "High Risk Customers (>70% probability): 70\n",
      "\n",
      "⚠️ High Risk Customers (Churn Probability > 0.7):\n"
     ]
    },
    {
     "data": {
      "text/html": [
       "<div>\n",
       "<style scoped>\n",
       "    .dataframe tbody tr th:only-of-type {\n",
       "        vertical-align: middle;\n",
       "    }\n",
       "\n",
       "    .dataframe tbody tr th {\n",
       "        vertical-align: top;\n",
       "    }\n",
       "\n",
       "    .dataframe thead th {\n",
       "        text-align: right;\n",
       "    }\n",
       "</style>\n",
       "<table border=\"1\" class=\"dataframe\">\n",
       "  <thead>\n",
       "    <tr style=\"text-align: right;\">\n",
       "      <th></th>\n",
       "      <th>Customer_ID</th>\n",
       "      <th>Churn_Probability</th>\n",
       "      <th>Churn_Status</th>\n",
       "    </tr>\n",
       "  </thead>\n",
       "  <tbody>\n",
       "    <tr>\n",
       "      <th>155</th>\n",
       "      <td>97828-MAH</td>\n",
       "      <td>0.943296</td>\n",
       "      <td>Likely to Churn</td>\n",
       "    </tr>\n",
       "    <tr>\n",
       "      <th>242</th>\n",
       "      <td>82118-JAM</td>\n",
       "      <td>0.939819</td>\n",
       "      <td>Likely to Churn</td>\n",
       "    </tr>\n",
       "    <tr>\n",
       "      <th>159</th>\n",
       "      <td>39623-HAR</td>\n",
       "      <td>0.929312</td>\n",
       "      <td>Likely to Churn</td>\n",
       "    </tr>\n",
       "    <tr>\n",
       "      <th>254</th>\n",
       "      <td>79700-KER</td>\n",
       "      <td>0.928080</td>\n",
       "      <td>Likely to Churn</td>\n",
       "    </tr>\n",
       "    <tr>\n",
       "      <th>223</th>\n",
       "      <td>44700-DEL</td>\n",
       "      <td>0.921004</td>\n",
       "      <td>Likely to Churn</td>\n",
       "    </tr>\n",
       "    <tr>\n",
       "      <th>...</th>\n",
       "      <td>...</td>\n",
       "      <td>...</td>\n",
       "      <td>...</td>\n",
       "    </tr>\n",
       "    <tr>\n",
       "      <th>186</th>\n",
       "      <td>66669-HAR</td>\n",
       "      <td>0.715414</td>\n",
       "      <td>Likely to Churn</td>\n",
       "    </tr>\n",
       "    <tr>\n",
       "      <th>9</th>\n",
       "      <td>12056-WES</td>\n",
       "      <td>0.712593</td>\n",
       "      <td>Likely to Churn</td>\n",
       "    </tr>\n",
       "    <tr>\n",
       "      <th>375</th>\n",
       "      <td>99862-BIH</td>\n",
       "      <td>0.707816</td>\n",
       "      <td>Likely to Churn</td>\n",
       "    </tr>\n",
       "    <tr>\n",
       "      <th>119</th>\n",
       "      <td>15349-UTT</td>\n",
       "      <td>0.706895</td>\n",
       "      <td>Likely to Churn</td>\n",
       "    </tr>\n",
       "    <tr>\n",
       "      <th>135</th>\n",
       "      <td>19837-TAM</td>\n",
       "      <td>0.705854</td>\n",
       "      <td>Likely to Churn</td>\n",
       "    </tr>\n",
       "  </tbody>\n",
       "</table>\n",
       "<p>70 rows × 3 columns</p>\n",
       "</div>"
      ],
      "text/plain": [
       "    Customer_ID  Churn_Probability     Churn_Status\n",
       "155   97828-MAH           0.943296  Likely to Churn\n",
       "242   82118-JAM           0.939819  Likely to Churn\n",
       "159   39623-HAR           0.929312  Likely to Churn\n",
       "254   79700-KER           0.928080  Likely to Churn\n",
       "223   44700-DEL           0.921004  Likely to Churn\n",
       "..          ...                ...              ...\n",
       "186   66669-HAR           0.715414  Likely to Churn\n",
       "9     12056-WES           0.712593  Likely to Churn\n",
       "375   99862-BIH           0.707816  Likely to Churn\n",
       "119   15349-UTT           0.706895  Likely to Churn\n",
       "135   19837-TAM           0.705854  Likely to Churn\n",
       "\n",
       "[70 rows x 3 columns]"
      ]
     },
     "metadata": {},
     "output_type": "display_data"
    }
   ],
   "source": [
    "# Analyze results\n",
    "analyze_predictions(results)\n",
    "\n",
    "# Display high-risk customers\n",
    "print(\"\\n⚠️ High Risk Customers (Churn Probability > 0.7):\")\n",
    "high_risk = results[results[\"Churn_Probability\"] > 0.7].sort_values(\n",
    "    \"Churn_Probability\", ascending=False\n",
    ")[[\"Customer_ID\", \"Churn_Probability\", \"Churn_Status\"]]\n",
    "display(high_risk)"
   ]
  },
  {
   "cell_type": "code",
   "execution_count": null,
   "id": "383d9f02",
   "metadata": {},
   "outputs": [],
   "source": []
  }
 ],
 "metadata": {
  "kernelspec": {
   "display_name": "venv",
   "language": "python",
   "name": "python3"
  },
  "language_info": {
   "codemirror_mode": {
    "name": "ipython",
    "version": 3
   },
   "file_extension": ".py",
   "mimetype": "text/x-python",
   "name": "python",
   "nbconvert_exporter": "python",
   "pygments_lexer": "ipython3",
   "version": "3.13.0"
  }
 },
 "nbformat": 4,
 "nbformat_minor": 5
}
